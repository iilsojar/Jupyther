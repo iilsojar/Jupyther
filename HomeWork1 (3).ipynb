{
 "cells": [
  {
   "cell_type": "markdown",
   "id": "a7d71c91-3cbd-4748-95ca-90dc6a0d249e",
   "metadata": {},
   "source": [
    "## **Условие 1:**\n",
    "## Оформляйте ноутбук, используя эти советы:\n",
    "## Номер задачи - заголовок 2 ##\n",
    "\n",
    "### Номер подзадачи - заголовок 3 ###\n",
    "\n",
    "*Предоставленные наборы данных оформляйте, как код*\n",
    "\n",
    "**Рекомендации для преподавателей по оценке задания:**\n",
    "**Смотреть, чтобы студент красиво оформлял ноутбук, использовал ячейки с текстом, указывал номера заданий**"
   ]
  },
  {
   "cell_type": "markdown",
   "id": "eab9f1df-09b1-4373-9ecd-ba00cb2a30ad",
   "metadata": {},
   "source": [
    "## Условие 2:\n",
    "* На складе лежат разные фрукты в разном количестве.\n",
    "\n",
    "* Нужно написать функцию, которая на вход принимает любое количество названий фруктов и их количество, а возвращает общее количество фруктов на складе"
   ]
  },
  {
   "cell_type": "code",
   "execution_count": 91,
   "id": "2d6a745f-dc7f-4a11-bbaa-424a6f10ec8e",
   "metadata": {},
   "outputs": [],
   "source": [
    "def name_amount_fruits(**kwargs):\n",
    "    for key, value in kwargs.items():\n",
    "        print(f'{key} - {value}')\n",
    "    total = sum(kwargs.values())\n",
    "    return f'итого фруктов: {total}'\n",
    "    print()\n",
    "    "
   ]
  },
  {
   "cell_type": "code",
   "execution_count": 92,
   "id": "8071a13c-f231-4a19-962c-bb898bc9ed32",
   "metadata": {},
   "outputs": [
    {
     "name": "stdout",
     "output_type": "stream",
     "text": [
      "apples - 200\n",
      "bananas - 100\n",
      "cucumbers - 450\n"
     ]
    },
    {
     "data": {
      "text/plain": [
       "'итого фруктов: 750'"
      ]
     },
     "execution_count": 92,
     "metadata": {},
     "output_type": "execute_result"
    }
   ],
   "source": [
    "name_amount_fruits(apples = 200, bananas = 100, cucumbers = 450)"
   ]
  },
  {
   "cell_type": "markdown",
   "id": "0145cd53-2141-46ff-83bb-4de4925063c5",
   "metadata": {},
   "source": [
    "## Условие 3:\n",
    "*Дан список с затратами на рекламу. Но в данных есть ошибки, некоторые затраты имеют отрицательную величину. Удалите такие значения из списка и посчитайте суммарные затраты\n",
    "[100, 125, -90, 345, 655, -1, 0, 200] \n",
    "Используйте list comprehensions*"
   ]
  },
  {
   "cell_type": "code",
   "execution_count": 62,
   "id": "64c2f21c-36de-4f7e-b7eb-b5f078d4eb88",
   "metadata": {},
   "outputs": [
    {
     "data": {
      "text/plain": [
       "'сумма затрат на рекламу = 1425'"
      ]
     },
     "execution_count": 62,
     "metadata": {},
     "output_type": "execute_result"
    }
   ],
   "source": [
    "a = sum([i for i in [100, 125, -90, 345, 655, -1, 0, 200] if i >= 0])\n",
    "a\n",
    "f'сумма затрат на рекламу = {a}'"
   ]
  },
  {
   "cell_type": "markdown",
   "id": "2b671448-75bd-467e-92db-c6de09c0b6d3",
   "metadata": {},
   "source": [
    "## Условие 4:\n",
    "Даны два списка.\n",
    "- Дата покупки\n",
    "['2021-09-14', '2021-12-15', '2021-09-08', '2021-12-05', '2021-10-09', '2021-09-30', '2021-12-22', '2021-11-29', '2021-12-24', '2021-11-26', '2021-10-27', '2021-12-18', '2021-11-09', '2021-11-23', '2021-09-27', '2021-10-02', '2021-12-27', '2021-09-20', '2021-12-13', '2021-11-01', '2021-11-09', '2021-12-06', '2021-12-08', '2021-10-09', '2021-10-31', '2021-09-30', '2021-11-09', '2021-12-13', '2021-10-26', '2021-12-09']\n",
    "- Суммы покупок по датам\n",
    "[1270, 8413, 9028, 3703, 5739, 4095, 295, 4944, 5723, 3701, 4471, 651, 7037, 4274, 6275, 4988, 6930, 2971, 6592, 2004, 2822, 519, 3406, 2732, 5015, 2008, 316, 6333, 5700, 2887]\n",
    "### 4.1 Найдите, какая выручка у компании в ноябре\n",
    "Используйте list comprehensions\n",
    "### 4.2 Найдите выручку компании в зависимости от месяца\n",
    "Для этого напишите функцию, которая на вход принимает список с датами и список с выручкой, а на выходе словарь, где ключи - это месяцы, а значения - это выручка.\n",
    "Используйте аннотирование типов."
   ]
  },
  {
   "cell_type": "code",
   "execution_count": 94,
   "id": "2f7ca852-c7b4-4fc7-bba3-46c14c91401f",
   "metadata": {},
   "outputs": [],
   "source": [
    "import numpy as np \n",
    "date_of_purchase = ['2021-09-14', '2021-12-15', '2021-09-08', '2021-12-05', '2021-10-09', \n",
    "                 '2021-09-30', '2021-12-22', '2021-11-29', '2021-12-24', '2021-11-26', \n",
    "                 '2021-10-27', '2021-12-18', '2021-11-09', '2021-11-23', '2021-09-27', \n",
    "                 '2021-10-02', '2021-12-27', '2021-09-20', '2021-12-13', '2021-11-01', \n",
    "                 '2021-11-09', '2021-12-06', '2021-12-08', '2021-10-09', '2021-10-31', \n",
    "                 '2021-09-30', '2021-11-09', '2021-12-13', '2021-10-26', '2021-12-09']"
   ]
  },
  {
   "cell_type": "code",
   "execution_count": 95,
   "id": "93397fb2-9912-4b28-b19c-64f35c230678",
   "metadata": {},
   "outputs": [],
   "source": [
    "purchase_amounts = [1270, 8413, 9028, 3703, 5739, 4095, 295, 4944, 5723, 3701, \n",
    "                    4471, 651, 7037, 4274, 6275, 4988, 6930, 2971, 6592, 2004, \n",
    "                    2822, 519, 3406, 2732, 5015, 2008, 316, 6333, 5700, 2887]\n",
    "\n"
   ]
  },
  {
   "cell_type": "code",
   "execution_count": 96,
   "id": "1edcfc64-e4a1-47a1-90cb-876e86813a20",
   "metadata": {},
   "outputs": [],
   "source": [
    "def data_base(x:list, y:list) -> dict:\n",
    "    data = {}\n",
    "    for i in range(len(x)):\n",
    "        data[x[i]] = y[i]\n",
    "    return data"
   ]
  },
  {
   "cell_type": "code",
   "execution_count": 97,
   "id": "827a0202-8140-4144-bd83-a7c64a1ac6b3",
   "metadata": {},
   "outputs": [
    {
     "data": {
      "text/plain": [
       "{'2021-09-14': 1270,\n",
       " '2021-12-15': 8413,\n",
       " '2021-09-08': 9028,\n",
       " '2021-12-05': 3703,\n",
       " '2021-10-09': 2732,\n",
       " '2021-09-30': 2008,\n",
       " '2021-12-22': 295,\n",
       " '2021-11-29': 4944,\n",
       " '2021-12-24': 5723,\n",
       " '2021-11-26': 3701,\n",
       " '2021-10-27': 4471,\n",
       " '2021-12-18': 651,\n",
       " '2021-11-09': 316,\n",
       " '2021-11-23': 4274,\n",
       " '2021-09-27': 6275,\n",
       " '2021-10-02': 4988,\n",
       " '2021-12-27': 6930,\n",
       " '2021-09-20': 2971,\n",
       " '2021-12-13': 6333,\n",
       " '2021-11-01': 2004,\n",
       " '2021-12-06': 519,\n",
       " '2021-12-08': 3406,\n",
       " '2021-10-31': 5015,\n",
       " '2021-10-26': 5700,\n",
       " '2021-12-09': 2887}"
      ]
     },
     "execution_count": 97,
     "metadata": {},
     "output_type": "execute_result"
    }
   ],
   "source": [
    "big_data = data_base(date_of_purchase, purchase_amounts)\n",
    "big_data"
   ]
  },
  {
   "cell_type": "code",
   "execution_count": 106,
   "id": "fbd764b4-2061-4599-8e67-1608f4f82ed5",
   "metadata": {},
   "outputs": [],
   "source": [
    "def november_data(data1: list, data2: list) -> list:\n",
    "    new_data = []\n",
    "    for i in range(len(data1)-1):\n",
    "        if '-11-' in data1[i]:\n",
    "            new_data.append(data2[i])\n",
    "    return new_data\n",
    "    "
   ]
  },
  {
   "cell_type": "code",
   "execution_count": 107,
   "id": "83cf40c6-9bb8-4dce-8a01-9eb9bd3dc09f",
   "metadata": {},
   "outputs": [
    {
     "data": {
      "text/plain": [
       "[4944, 3701, 7037, 4274, 2004, 2822, 316]"
      ]
     },
     "execution_count": 107,
     "metadata": {},
     "output_type": "execute_result"
    }
   ],
   "source": [
    "november_data(date_of_purchase, purchase_amounts)"
   ]
  },
  {
   "cell_type": "code",
   "execution_count": 114,
   "id": "b475e6bf-1412-4321-820a-5693fabd0a06",
   "metadata": {},
   "outputs": [
    {
     "name": "stdout",
     "output_type": "stream",
     "text": [
      "4944 3701 7037 4274 2004 2822 316\n"
     ]
    }
   ],
   "source": [
    "print(*november_data(date_of_purchase, purchase_amounts))"
   ]
  },
  {
   "cell_type": "code",
   "execution_count": 115,
   "id": "62bb79a5-e27c-4ca9-af95-2637ad8c57da",
   "metadata": {},
   "outputs": [
    {
     "name": "stdout",
     "output_type": "stream",
     "text": [
      "общий доход ноября: 25098\n"
     ]
    }
   ],
   "source": [
    "print(f'общий доход ноября: {sum(november_data(date_of_purchase, purchase_amounts))}')"
   ]
  }
 ],
 "metadata": {
  "kernelspec": {
   "display_name": "Python 3 (ipykernel)",
   "language": "python",
   "name": "python3"
  },
  "language_info": {
   "codemirror_mode": {
    "name": "ipython",
    "version": 3
   },
   "file_extension": ".py",
   "mimetype": "text/x-python",
   "name": "python",
   "nbconvert_exporter": "python",
   "pygments_lexer": "ipython3",
   "version": "3.10.9"
  }
 },
 "nbformat": 4,
 "nbformat_minor": 5
}
